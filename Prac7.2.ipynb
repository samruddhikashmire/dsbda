{
 "cells": [
  {
   "cell_type": "code",
   "execution_count": 23,
   "id": "9cf4434d-14e9-4d5d-b915-d7b738f14a4f",
   "metadata": {},
   "outputs": [],
   "source": [
    "with open('sample.txt' , 'r') as file:\n",
    "    sample = file.read()"
   ]
  },
  {
   "cell_type": "code",
   "execution_count": 24,
   "id": "07b04d45-5723-406e-9242-e01e505f7e10",
   "metadata": {},
   "outputs": [
    {
     "data": {
      "text/plain": [
       "\"Tokenization is the process of splitting a text document into individual words or tokens. \\nIt is an important step in natural language processing. \\nPOS tagging assigns grammatical information to each word in a sentence. \\nStop words are commonly used words that are often removed from text data because they don't carry significant meaning.\\nStemming and lemmatization are techniques used to reduce words to their base or root form.\""
      ]
     },
     "execution_count": 24,
     "metadata": {},
     "output_type": "execute_result"
    }
   ],
   "source": [
    "sample"
   ]
  },
  {
   "cell_type": "code",
   "execution_count": 26,
   "id": "da91caa4-808f-4910-8eb8-ea02032d680b",
   "metadata": {},
   "outputs": [],
   "source": [
    "from nltk.tokenize import word_tokenize"
   ]
  },
  {
   "cell_type": "code",
   "execution_count": 27,
   "id": "2512e9ba-dcf9-48bf-95f9-a51323203877",
   "metadata": {},
   "outputs": [],
   "source": [
    "tokens = word_tokenize(sample)"
   ]
  },
  {
   "cell_type": "code",
   "execution_count": 28,
   "id": "9c665ba7-5dfc-4b35-86a2-3e04b104f5a0",
   "metadata": {},
   "outputs": [
    {
     "data": {
      "text/plain": [
       "['Tokenization',\n",
       " 'is',\n",
       " 'the',\n",
       " 'process',\n",
       " 'of',\n",
       " 'splitting',\n",
       " 'a',\n",
       " 'text',\n",
       " 'document',\n",
       " 'into',\n",
       " 'individual',\n",
       " 'words',\n",
       " 'or',\n",
       " 'tokens',\n",
       " '.',\n",
       " 'It',\n",
       " 'is',\n",
       " 'an',\n",
       " 'important',\n",
       " 'step',\n",
       " 'in',\n",
       " 'natural',\n",
       " 'language',\n",
       " 'processing',\n",
       " '.',\n",
       " 'POS',\n",
       " 'tagging',\n",
       " 'assigns',\n",
       " 'grammatical',\n",
       " 'information',\n",
       " 'to',\n",
       " 'each',\n",
       " 'word',\n",
       " 'in',\n",
       " 'a',\n",
       " 'sentence',\n",
       " '.',\n",
       " 'Stop',\n",
       " 'words',\n",
       " 'are',\n",
       " 'commonly',\n",
       " 'used',\n",
       " 'words',\n",
       " 'that',\n",
       " 'are',\n",
       " 'often',\n",
       " 'removed',\n",
       " 'from',\n",
       " 'text',\n",
       " 'data',\n",
       " 'because',\n",
       " 'they',\n",
       " 'do',\n",
       " \"n't\",\n",
       " 'carry',\n",
       " 'significant',\n",
       " 'meaning',\n",
       " '.',\n",
       " 'Stemming',\n",
       " 'and',\n",
       " 'lemmatization',\n",
       " 'are',\n",
       " 'techniques',\n",
       " 'used',\n",
       " 'to',\n",
       " 'reduce',\n",
       " 'words',\n",
       " 'to',\n",
       " 'their',\n",
       " 'base',\n",
       " 'or',\n",
       " 'root',\n",
       " 'form',\n",
       " '.']"
      ]
     },
     "execution_count": 28,
     "metadata": {},
     "output_type": "execute_result"
    }
   ],
   "source": [
    "tokens"
   ]
  },
  {
   "cell_type": "code",
   "execution_count": 30,
   "id": "bfe17e79-d36c-4f12-a17b-9f1df3bb5ce8",
   "metadata": {},
   "outputs": [
    {
     "data": {
      "text/plain": [
       "[('Tokenization', 'NN'),\n",
       " ('is', 'VBZ'),\n",
       " ('the', 'DT'),\n",
       " ('process', 'NN'),\n",
       " ('of', 'IN'),\n",
       " ('splitting', 'VBG'),\n",
       " ('a', 'DT'),\n",
       " ('text', 'NN'),\n",
       " ('document', 'NN'),\n",
       " ('into', 'IN'),\n",
       " ('individual', 'JJ'),\n",
       " ('words', 'NNS'),\n",
       " ('or', 'CC'),\n",
       " ('tokens', 'NNS'),\n",
       " ('.', '.'),\n",
       " ('It', 'PRP'),\n",
       " ('is', 'VBZ'),\n",
       " ('an', 'DT'),\n",
       " ('important', 'JJ'),\n",
       " ('step', 'NN'),\n",
       " ('in', 'IN'),\n",
       " ('natural', 'JJ'),\n",
       " ('language', 'NN'),\n",
       " ('processing', 'NN'),\n",
       " ('.', '.'),\n",
       " ('POS', 'NNP'),\n",
       " ('tagging', 'VBG'),\n",
       " ('assigns', 'RB'),\n",
       " ('grammatical', 'JJ'),\n",
       " ('information', 'NN'),\n",
       " ('to', 'TO'),\n",
       " ('each', 'DT'),\n",
       " ('word', 'NN'),\n",
       " ('in', 'IN'),\n",
       " ('a', 'DT'),\n",
       " ('sentence', 'NN'),\n",
       " ('.', '.'),\n",
       " ('Stop', 'VB'),\n",
       " ('words', 'NNS'),\n",
       " ('are', 'VBP'),\n",
       " ('commonly', 'RB'),\n",
       " ('used', 'VBN'),\n",
       " ('words', 'NNS'),\n",
       " ('that', 'WDT'),\n",
       " ('are', 'VBP'),\n",
       " ('often', 'RB'),\n",
       " ('removed', 'VBN'),\n",
       " ('from', 'IN'),\n",
       " ('text', 'NN'),\n",
       " ('data', 'NNS'),\n",
       " ('because', 'IN'),\n",
       " ('they', 'PRP'),\n",
       " ('do', 'VBP'),\n",
       " (\"n't\", 'RB'),\n",
       " ('carry', 'VB'),\n",
       " ('significant', 'JJ'),\n",
       " ('meaning', 'NN'),\n",
       " ('.', '.'),\n",
       " ('Stemming', 'VBG'),\n",
       " ('and', 'CC'),\n",
       " ('lemmatization', 'NN'),\n",
       " ('are', 'VBP'),\n",
       " ('techniques', 'NNS'),\n",
       " ('used', 'VBN'),\n",
       " ('to', 'TO'),\n",
       " ('reduce', 'VB'),\n",
       " ('words', 'NNS'),\n",
       " ('to', 'TO'),\n",
       " ('their', 'PRP$'),\n",
       " ('base', 'NN'),\n",
       " ('or', 'CC'),\n",
       " ('root', 'NN'),\n",
       " ('form', 'NN'),\n",
       " ('.', '.')]"
      ]
     },
     "execution_count": 30,
     "metadata": {},
     "output_type": "execute_result"
    }
   ],
   "source": [
    "pos = nltk.pos_tag(tokens)\n",
    "pos"
   ]
  },
  {
   "cell_type": "code",
   "execution_count": 32,
   "id": "94045ba0-360f-4243-99dd-ba576be4b701",
   "metadata": {},
   "outputs": [],
   "source": [
    "from nltk.corpus import stopwords"
   ]
  },
  {
   "cell_type": "code",
   "execution_count": 33,
   "id": "1f99db28-c59f-471e-b1ef-83df3826bf18",
   "metadata": {},
   "outputs": [],
   "source": [
    "sw = set(stopwords.words('english'))"
   ]
  },
  {
   "cell_type": "code",
   "execution_count": 34,
   "id": "73adef1a-cae1-4bcd-8153-c676c8ce3978",
   "metadata": {},
   "outputs": [
    {
     "data": {
      "text/plain": [
       "{'a',\n",
       " 'about',\n",
       " 'above',\n",
       " 'after',\n",
       " 'again',\n",
       " 'against',\n",
       " 'ain',\n",
       " 'all',\n",
       " 'am',\n",
       " 'an',\n",
       " 'and',\n",
       " 'any',\n",
       " 'are',\n",
       " 'aren',\n",
       " \"aren't\",\n",
       " 'as',\n",
       " 'at',\n",
       " 'be',\n",
       " 'because',\n",
       " 'been',\n",
       " 'before',\n",
       " 'being',\n",
       " 'below',\n",
       " 'between',\n",
       " 'both',\n",
       " 'but',\n",
       " 'by',\n",
       " 'can',\n",
       " 'couldn',\n",
       " \"couldn't\",\n",
       " 'd',\n",
       " 'did',\n",
       " 'didn',\n",
       " \"didn't\",\n",
       " 'do',\n",
       " 'does',\n",
       " 'doesn',\n",
       " \"doesn't\",\n",
       " 'doing',\n",
       " 'don',\n",
       " \"don't\",\n",
       " 'down',\n",
       " 'during',\n",
       " 'each',\n",
       " 'few',\n",
       " 'for',\n",
       " 'from',\n",
       " 'further',\n",
       " 'had',\n",
       " 'hadn',\n",
       " \"hadn't\",\n",
       " 'has',\n",
       " 'hasn',\n",
       " \"hasn't\",\n",
       " 'have',\n",
       " 'haven',\n",
       " \"haven't\",\n",
       " 'having',\n",
       " 'he',\n",
       " 'her',\n",
       " 'here',\n",
       " 'hers',\n",
       " 'herself',\n",
       " 'him',\n",
       " 'himself',\n",
       " 'his',\n",
       " 'how',\n",
       " 'i',\n",
       " 'if',\n",
       " 'in',\n",
       " 'into',\n",
       " 'is',\n",
       " 'isn',\n",
       " \"isn't\",\n",
       " 'it',\n",
       " \"it's\",\n",
       " 'its',\n",
       " 'itself',\n",
       " 'just',\n",
       " 'll',\n",
       " 'm',\n",
       " 'ma',\n",
       " 'me',\n",
       " 'mightn',\n",
       " \"mightn't\",\n",
       " 'more',\n",
       " 'most',\n",
       " 'mustn',\n",
       " \"mustn't\",\n",
       " 'my',\n",
       " 'myself',\n",
       " 'needn',\n",
       " \"needn't\",\n",
       " 'no',\n",
       " 'nor',\n",
       " 'not',\n",
       " 'now',\n",
       " 'o',\n",
       " 'of',\n",
       " 'off',\n",
       " 'on',\n",
       " 'once',\n",
       " 'only',\n",
       " 'or',\n",
       " 'other',\n",
       " 'our',\n",
       " 'ours',\n",
       " 'ourselves',\n",
       " 'out',\n",
       " 'over',\n",
       " 'own',\n",
       " 're',\n",
       " 's',\n",
       " 'same',\n",
       " 'shan',\n",
       " \"shan't\",\n",
       " 'she',\n",
       " \"she's\",\n",
       " 'should',\n",
       " \"should've\",\n",
       " 'shouldn',\n",
       " \"shouldn't\",\n",
       " 'so',\n",
       " 'some',\n",
       " 'such',\n",
       " 't',\n",
       " 'than',\n",
       " 'that',\n",
       " \"that'll\",\n",
       " 'the',\n",
       " 'their',\n",
       " 'theirs',\n",
       " 'them',\n",
       " 'themselves',\n",
       " 'then',\n",
       " 'there',\n",
       " 'these',\n",
       " 'they',\n",
       " 'this',\n",
       " 'those',\n",
       " 'through',\n",
       " 'to',\n",
       " 'too',\n",
       " 'under',\n",
       " 'until',\n",
       " 'up',\n",
       " 've',\n",
       " 'very',\n",
       " 'was',\n",
       " 'wasn',\n",
       " \"wasn't\",\n",
       " 'we',\n",
       " 'were',\n",
       " 'weren',\n",
       " \"weren't\",\n",
       " 'what',\n",
       " 'when',\n",
       " 'where',\n",
       " 'which',\n",
       " 'while',\n",
       " 'who',\n",
       " 'whom',\n",
       " 'why',\n",
       " 'will',\n",
       " 'with',\n",
       " 'won',\n",
       " \"won't\",\n",
       " 'wouldn',\n",
       " \"wouldn't\",\n",
       " 'y',\n",
       " 'you',\n",
       " \"you'd\",\n",
       " \"you'll\",\n",
       " \"you're\",\n",
       " \"you've\",\n",
       " 'your',\n",
       " 'yours',\n",
       " 'yourself',\n",
       " 'yourselves'}"
      ]
     },
     "execution_count": 34,
     "metadata": {},
     "output_type": "execute_result"
    }
   ],
   "source": [
    "sw"
   ]
  },
  {
   "cell_type": "code",
   "execution_count": 36,
   "id": "9c938451-7cf1-4609-a972-fd04892e3c40",
   "metadata": {},
   "outputs": [],
   "source": [
    "new_tokens=[token for token in tokens if token.lower() not in sw]"
   ]
  },
  {
   "cell_type": "code",
   "execution_count": 37,
   "id": "925d6a9a-f594-4793-8141-03455500a7c3",
   "metadata": {},
   "outputs": [
    {
     "data": {
      "text/plain": [
       "['Tokenization',\n",
       " 'process',\n",
       " 'splitting',\n",
       " 'text',\n",
       " 'document',\n",
       " 'individual',\n",
       " 'words',\n",
       " 'tokens',\n",
       " '.',\n",
       " 'important',\n",
       " 'step',\n",
       " 'natural',\n",
       " 'language',\n",
       " 'processing',\n",
       " '.',\n",
       " 'POS',\n",
       " 'tagging',\n",
       " 'assigns',\n",
       " 'grammatical',\n",
       " 'information',\n",
       " 'word',\n",
       " 'sentence',\n",
       " '.',\n",
       " 'Stop',\n",
       " 'words',\n",
       " 'commonly',\n",
       " 'used',\n",
       " 'words',\n",
       " 'often',\n",
       " 'removed',\n",
       " 'text',\n",
       " 'data',\n",
       " \"n't\",\n",
       " 'carry',\n",
       " 'significant',\n",
       " 'meaning',\n",
       " '.',\n",
       " 'Stemming',\n",
       " 'lemmatization',\n",
       " 'techniques',\n",
       " 'used',\n",
       " 'reduce',\n",
       " 'words',\n",
       " 'base',\n",
       " 'root',\n",
       " 'form',\n",
       " '.']"
      ]
     },
     "execution_count": 37,
     "metadata": {},
     "output_type": "execute_result"
    }
   ],
   "source": [
    "new_tokens"
   ]
  },
  {
   "cell_type": "code",
   "execution_count": 38,
   "id": "c83f13ce-c526-4933-a352-690d1fde43ab",
   "metadata": {},
   "outputs": [],
   "source": [
    "from nltk.stem import PorterStemmer , WordNetLemmatizer"
   ]
  },
  {
   "cell_type": "code",
   "execution_count": 39,
   "id": "8e24815b-0199-4ff2-9c80-ccd55aaea9fa",
   "metadata": {},
   "outputs": [],
   "source": [
    "s = PorterStemmer()"
   ]
  },
  {
   "cell_type": "code",
   "execution_count": 41,
   "id": "f03afba6-3d68-496e-89b9-973888b6d33a",
   "metadata": {},
   "outputs": [
    {
     "name": "stdout",
     "output_type": "stream",
     "text": [
      "['token', 'process', 'split', 'text', 'document', 'individu', 'word', 'token', '.', 'import', 'step', 'natur', 'languag', 'process', '.', 'po', 'tag', 'assign', 'grammat', 'inform', 'word', 'sentenc', '.', 'stop', 'word', 'commonli', 'use', 'word', 'often', 'remov', 'text', 'data', \"n't\", 'carri', 'signific', 'mean', '.', 'stem', 'lemmat', 'techniqu', 'use', 'reduc', 'word', 'base', 'root', 'form', '.']\n"
     ]
    }
   ],
   "source": [
    "st = [s.stem(token) for token in new_tokens]\n",
    "print(st)\n"
   ]
  },
  {
   "cell_type": "code",
   "execution_count": 42,
   "id": "e802e257-2988-4c35-bb6b-c824fe107e89",
   "metadata": {},
   "outputs": [],
   "source": [
    "l = WordNetLemmatizer()"
   ]
  },
  {
   "cell_type": "code",
   "execution_count": 46,
   "id": "2216503e-d864-4711-ace3-7655bd5317ca",
   "metadata": {},
   "outputs": [
    {
     "name": "stdout",
     "output_type": "stream",
     "text": [
      "['Tokenization', 'process', 'splitting', 'text', 'document', 'individual', 'word', 'token', '.', 'important', 'step', 'natural', 'language', 'processing', '.', 'POS', 'tagging', 'assigns', 'grammatical', 'information', 'word', 'sentence', '.', 'Stop', 'word', 'commonly', 'used', 'word', 'often', 'removed', 'text', 'data', \"n't\", 'carry', 'significant', 'meaning', '.', 'Stemming', 'lemmatization', 'technique', 'used', 'reduce', 'word', 'base', 'root', 'form', '.']\n"
     ]
    }
   ],
   "source": [
    "lm = [l.lemmatize(token) for token in new_tokens]\n",
    "print(lm)"
   ]
  },
  {
   "cell_type": "code",
   "execution_count": 47,
   "id": "6bed2d46-25ca-4542-ad29-19e19a0e6c92",
   "metadata": {},
   "outputs": [
    {
     "name": "stdout",
     "output_type": "stream",
     "text": [
      "  (0, 1)\t0.34211869506421816\n",
      "  (0, 0)\t0.34211869506421816\n",
      "  (0, 9)\t0.34211869506421816\n",
      "  (0, 5)\t0.34211869506421816\n",
      "  (0, 11)\t0.34211869506421816\n",
      "  (0, 12)\t0.48684053853849035\n",
      "  (0, 4)\t0.24342026926924518\n",
      "  (0, 10)\t0.24342026926924518\n",
      "  (0, 2)\t0.24342026926924518\n",
      "  (1, 3)\t0.40740123733358447\n",
      "  (1, 6)\t0.40740123733358447\n",
      "  (1, 7)\t0.40740123733358447\n",
      "  (1, 8)\t0.40740123733358447\n",
      "  (1, 12)\t0.28986933576883284\n",
      "  (1, 4)\t0.28986933576883284\n",
      "  (1, 10)\t0.28986933576883284\n",
      "  (1, 2)\t0.28986933576883284\n"
     ]
    }
   ],
   "source": [
    "from sklearn.feature_extraction.text import TfidfVectorizer\n",
    "\n",
    "firstV= \"Data Science is the sexiest job of the 21st century\"\n",
    "secondV= \"machine learning is the key for data science\"\n",
    "\n",
    "vectorize= TfidfVectorizer()\n",
    "\n",
    "response= vectorize.fit_transform([firstV, secondV])\n",
    "print(response)"
   ]
  },
  {
   "cell_type": "code",
   "execution_count": 49,
   "id": "ec7b3cf4-7d1a-48a0-a593-e7e9b62c3454",
   "metadata": {},
   "outputs": [
    {
     "name": "stdout",
     "output_type": "stream",
     "text": [
      "  (0, 4)\t0.47107781233161794\n",
      "  (0, 0)\t0.47107781233161794\n",
      "  (0, 1)\t0.47107781233161794\n",
      "  (0, 3)\t0.47107781233161794\n",
      "  (0, 5)\t0.33517574332792605\n",
      "  (1, 2)\t0.6316672017376245\n",
      "  (1, 6)\t0.6316672017376245\n",
      "  (1, 5)\t0.4494364165239821\n"
     ]
    }
   ],
   "source": [
    "from sklearn.feature_extraction.text import TfidfVectorizer\n",
    "\n",
    "f = \"Sam loves dancing and reafing\"\n",
    "s = \"She is sam\"\n",
    "\n",
    "v = TfidfVectorizer()\n",
    "r = v.fit_transform([f,s])\n",
    "print(r)"
   ]
  },
  {
   "cell_type": "code",
   "execution_count": null,
   "id": "526b1141-61d2-439b-a855-af2a3e6cfbca",
   "metadata": {},
   "outputs": [],
   "source": []
  }
 ],
 "metadata": {
  "kernelspec": {
   "display_name": "Python 3 (ipykernel)",
   "language": "python",
   "name": "python3"
  },
  "language_info": {
   "codemirror_mode": {
    "name": "ipython",
    "version": 3
   },
   "file_extension": ".py",
   "mimetype": "text/x-python",
   "name": "python",
   "nbconvert_exporter": "python",
   "pygments_lexer": "ipython3",
   "version": "3.11.7"
  }
 },
 "nbformat": 4,
 "nbformat_minor": 5
}
