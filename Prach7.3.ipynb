{
  "nbformat": 4,
  "nbformat_minor": 0,
  "metadata": {
    "colab": {
      "provenance": [],
      "authorship_tag": "ABX9TyN72b1zl9phnVlYjQ2W+mtT",
      "include_colab_link": true
    },
    "kernelspec": {
      "name": "python3",
      "display_name": "Python 3"
    },
    "language_info": {
      "name": "python"
    }
  },
  "cells": [
    {
      "cell_type": "markdown",
      "metadata": {
        "id": "view-in-github",
        "colab_type": "text"
      },
      "source": [
        "<a href=\"https://colab.research.google.com/github/samruddhikashmire/dsbda/blob/main/Prach7.3.ipynb\" target=\"_parent\"><img src=\"https://colab.research.google.com/assets/colab-badge.svg\" alt=\"Open In Colab\"/></a>"
      ]
    },
    {
      "cell_type": "code",
      "execution_count": 1,
      "metadata": {
        "id": "a9UjtjULbe1_"
      },
      "outputs": [],
      "source": [
        "with open('sample.txt' , 'r') as file:\n",
        "  sample = file.read()"
      ]
    },
    {
      "cell_type": "code",
      "source": [
        "sample"
      ],
      "metadata": {
        "colab": {
          "base_uri": "https://localhost:8080/",
          "height": 88
        },
        "id": "aYZ5hv2wbukw",
        "outputId": "eea4a2f9-fce8-4b59-be4d-395f424e4ac7"
      },
      "execution_count": 2,
      "outputs": [
        {
          "output_type": "execute_result",
          "data": {
            "text/plain": [
              "\"Tokenization is the process of splitting a text document into individual words or tokens. \\nIt is an important step in natural language processing. \\nPOS tagging assigns grammatical information to each word in a sentence. \\nStop words are commonly used words that are often removed from text data because they don't carry significant meaning.\\nStemming and lemmatization are techniques used to reduce words to their base or root form.\""
            ],
            "application/vnd.google.colaboratory.intrinsic+json": {
              "type": "string"
            }
          },
          "metadata": {},
          "execution_count": 2
        }
      ]
    },
    {
      "cell_type": "code",
      "source": [
        "from nltk.tokenize import word_tokenize"
      ],
      "metadata": {
        "id": "oj6h4n2Kbvqz"
      },
      "execution_count": 3,
      "outputs": []
    },
    {
      "cell_type": "code",
      "source": [
        "import nltk\n",
        "nltk.download('punkt')"
      ],
      "metadata": {
        "colab": {
          "base_uri": "https://localhost:8080/"
        },
        "id": "oZZlgudkb8Xy",
        "outputId": "041e2876-adad-42ee-cbe2-106e4f559002"
      },
      "execution_count": 6,
      "outputs": [
        {
          "output_type": "stream",
          "name": "stderr",
          "text": [
            "[nltk_data] Downloading package punkt to /root/nltk_data...\n",
            "[nltk_data]   Unzipping tokenizers/punkt.zip.\n"
          ]
        },
        {
          "output_type": "execute_result",
          "data": {
            "text/plain": [
              "True"
            ]
          },
          "metadata": {},
          "execution_count": 6
        }
      ]
    },
    {
      "cell_type": "code",
      "source": [
        "tokens = word_tokenize(sample)"
      ],
      "metadata": {
        "id": "3Z1Q0moVb0FR"
      },
      "execution_count": 7,
      "outputs": []
    },
    {
      "cell_type": "code",
      "source": [
        "print(tokens)"
      ],
      "metadata": {
        "colab": {
          "base_uri": "https://localhost:8080/"
        },
        "id": "IeSzCbEVb5CU",
        "outputId": "99dd6e6c-2691-4161-aa80-1c5c601c3144"
      },
      "execution_count": 8,
      "outputs": [
        {
          "output_type": "stream",
          "name": "stdout",
          "text": [
            "['Tokenization', 'is', 'the', 'process', 'of', 'splitting', 'a', 'text', 'document', 'into', 'individual', 'words', 'or', 'tokens', '.', 'It', 'is', 'an', 'important', 'step', 'in', 'natural', 'language', 'processing', '.', 'POS', 'tagging', 'assigns', 'grammatical', 'information', 'to', 'each', 'word', 'in', 'a', 'sentence', '.', 'Stop', 'words', 'are', 'commonly', 'used', 'words', 'that', 'are', 'often', 'removed', 'from', 'text', 'data', 'because', 'they', 'do', \"n't\", 'carry', 'significant', 'meaning', '.', 'Stemming', 'and', 'lemmatization', 'are', 'techniques', 'used', 'to', 'reduce', 'words', 'to', 'their', 'base', 'or', 'root', 'form', '.']\n"
          ]
        }
      ]
    },
    {
      "cell_type": "code",
      "source": [
        "nltk.download('averaged_perceptron_tagger')"
      ],
      "metadata": {
        "colab": {
          "base_uri": "https://localhost:8080/"
        },
        "id": "8Bw8rkjKcSrO",
        "outputId": "2f0d68a2-ec8e-4cfa-c5e7-7b52c38fa2d0"
      },
      "execution_count": 10,
      "outputs": [
        {
          "output_type": "stream",
          "name": "stderr",
          "text": [
            "[nltk_data] Downloading package averaged_perceptron_tagger to\n",
            "[nltk_data]     /root/nltk_data...\n",
            "[nltk_data]   Unzipping taggers/averaged_perceptron_tagger.zip.\n"
          ]
        },
        {
          "output_type": "execute_result",
          "data": {
            "text/plain": [
              "True"
            ]
          },
          "metadata": {},
          "execution_count": 10
        }
      ]
    },
    {
      "cell_type": "code",
      "source": [
        "p = nltk.pos_tag(tokens)\n"
      ],
      "metadata": {
        "id": "0PxkhAlZcEyN"
      },
      "execution_count": 11,
      "outputs": []
    },
    {
      "cell_type": "code",
      "source": [
        "print(p)"
      ],
      "metadata": {
        "colab": {
          "base_uri": "https://localhost:8080/"
        },
        "id": "h-Pn6eUocPBy",
        "outputId": "ee5a1600-167e-4232-c2a5-fe12b5a7bd71"
      },
      "execution_count": 12,
      "outputs": [
        {
          "output_type": "stream",
          "name": "stdout",
          "text": [
            "[('Tokenization', 'NN'), ('is', 'VBZ'), ('the', 'DT'), ('process', 'NN'), ('of', 'IN'), ('splitting', 'VBG'), ('a', 'DT'), ('text', 'NN'), ('document', 'NN'), ('into', 'IN'), ('individual', 'JJ'), ('words', 'NNS'), ('or', 'CC'), ('tokens', 'NNS'), ('.', '.'), ('It', 'PRP'), ('is', 'VBZ'), ('an', 'DT'), ('important', 'JJ'), ('step', 'NN'), ('in', 'IN'), ('natural', 'JJ'), ('language', 'NN'), ('processing', 'NN'), ('.', '.'), ('POS', 'NNP'), ('tagging', 'VBG'), ('assigns', 'RB'), ('grammatical', 'JJ'), ('information', 'NN'), ('to', 'TO'), ('each', 'DT'), ('word', 'NN'), ('in', 'IN'), ('a', 'DT'), ('sentence', 'NN'), ('.', '.'), ('Stop', 'VB'), ('words', 'NNS'), ('are', 'VBP'), ('commonly', 'RB'), ('used', 'VBN'), ('words', 'NNS'), ('that', 'WDT'), ('are', 'VBP'), ('often', 'RB'), ('removed', 'VBN'), ('from', 'IN'), ('text', 'NN'), ('data', 'NNS'), ('because', 'IN'), ('they', 'PRP'), ('do', 'VBP'), (\"n't\", 'RB'), ('carry', 'VB'), ('significant', 'JJ'), ('meaning', 'NN'), ('.', '.'), ('Stemming', 'VBG'), ('and', 'CC'), ('lemmatization', 'NN'), ('are', 'VBP'), ('techniques', 'NNS'), ('used', 'VBN'), ('to', 'TO'), ('reduce', 'VB'), ('words', 'NNS'), ('to', 'TO'), ('their', 'PRP$'), ('base', 'NN'), ('or', 'CC'), ('root', 'NN'), ('form', 'NN'), ('.', '.')]\n"
          ]
        }
      ]
    },
    {
      "cell_type": "code",
      "source": [
        "from nltk.corpus import stopwords"
      ],
      "metadata": {
        "id": "gIO-FLGucVik"
      },
      "execution_count": 13,
      "outputs": []
    },
    {
      "cell_type": "code",
      "source": [
        "nltk.download('stopwords')"
      ],
      "metadata": {
        "colab": {
          "base_uri": "https://localhost:8080/"
        },
        "id": "8fOzCj6rcm5t",
        "outputId": "e144662e-862d-4a45-d0e8-e48477281d0a"
      },
      "execution_count": 16,
      "outputs": [
        {
          "output_type": "stream",
          "name": "stderr",
          "text": [
            "[nltk_data] Downloading package stopwords to /root/nltk_data...\n",
            "[nltk_data]   Unzipping corpora/stopwords.zip.\n"
          ]
        },
        {
          "output_type": "execute_result",
          "data": {
            "text/plain": [
              "True"
            ]
          },
          "metadata": {},
          "execution_count": 16
        }
      ]
    },
    {
      "cell_type": "code",
      "source": [
        "\n",
        "stop_words = set(stopwords.words('english'))"
      ],
      "metadata": {
        "id": "S1hoFe1NcZ1p"
      },
      "execution_count": 17,
      "outputs": []
    },
    {
      "cell_type": "code",
      "source": [
        "filterd_tokens = [token for token in tokens if token.lower() not in stop_words]\n",
        "filterd_tokens"
      ],
      "metadata": {
        "colab": {
          "base_uri": "https://localhost:8080/"
        },
        "id": "KFjrYXX4cfPI",
        "outputId": "d2ec19e9-89c8-4d23-8502-6df075784c05"
      },
      "execution_count": 25,
      "outputs": [
        {
          "output_type": "execute_result",
          "data": {
            "text/plain": [
              "['Tokenization',\n",
              " 'process',\n",
              " 'splitting',\n",
              " 'text',\n",
              " 'document',\n",
              " 'individual',\n",
              " 'words',\n",
              " 'tokens',\n",
              " '.',\n",
              " 'important',\n",
              " 'step',\n",
              " 'natural',\n",
              " 'language',\n",
              " 'processing',\n",
              " '.',\n",
              " 'POS',\n",
              " 'tagging',\n",
              " 'assigns',\n",
              " 'grammatical',\n",
              " 'information',\n",
              " 'word',\n",
              " 'sentence',\n",
              " '.',\n",
              " 'Stop',\n",
              " 'words',\n",
              " 'commonly',\n",
              " 'used',\n",
              " 'words',\n",
              " 'often',\n",
              " 'removed',\n",
              " 'text',\n",
              " 'data',\n",
              " \"n't\",\n",
              " 'carry',\n",
              " 'significant',\n",
              " 'meaning',\n",
              " '.',\n",
              " 'Stemming',\n",
              " 'lemmatization',\n",
              " 'techniques',\n",
              " 'used',\n",
              " 'reduce',\n",
              " 'words',\n",
              " 'base',\n",
              " 'root',\n",
              " 'form',\n",
              " '.']"
            ]
          },
          "metadata": {},
          "execution_count": 25
        }
      ]
    },
    {
      "cell_type": "code",
      "source": [
        "from nltk.stem import WordNetLemmatizer , PorterStemmer"
      ],
      "metadata": {
        "id": "zn8bud3zc1Nf"
      },
      "execution_count": 20,
      "outputs": []
    },
    {
      "cell_type": "code",
      "source": [
        "ps = PorterStemmer()"
      ],
      "metadata": {
        "id": "A7lKObjfdM7T"
      },
      "execution_count": 21,
      "outputs": []
    },
    {
      "cell_type": "code",
      "source": [
        "st = [ps.stem(token) for token in filterd_tokens]"
      ],
      "metadata": {
        "id": "MqyNZtwDdPxy"
      },
      "execution_count": 22,
      "outputs": []
    },
    {
      "cell_type": "code",
      "source": [
        "print(st)"
      ],
      "metadata": {
        "colab": {
          "base_uri": "https://localhost:8080/"
        },
        "id": "2IohIjiedoTb",
        "outputId": "1688fd7c-7776-41a4-8825-069766f3f28f"
      },
      "execution_count": 23,
      "outputs": [
        {
          "output_type": "stream",
          "name": "stdout",
          "text": [
            "['token', 'process', 'split', 'text', 'document', 'individu', 'word', 'token', '.', 'import', 'step', 'natur', 'languag', 'process', '.', 'po', 'tag', 'assign', 'grammat', 'inform', 'word', 'sentenc', '.', 'stop', 'word', 'commonli', 'use', 'word', 'often', 'remov', 'text', 'data', \"n't\", 'carri', 'signific', 'mean', '.', 'stem', 'lemmat', 'techniqu', 'use', 'reduc', 'word', 'base', 'root', 'form', '.']\n"
          ]
        }
      ]
    },
    {
      "cell_type": "code",
      "source": [
        "nltk.download('wordnet')"
      ],
      "metadata": {
        "colab": {
          "base_uri": "https://localhost:8080/"
        },
        "id": "f-HJSThxecMT",
        "outputId": "ed82db51-f79f-4595-872b-cf85cad59374"
      },
      "execution_count": 29,
      "outputs": [
        {
          "output_type": "stream",
          "name": "stderr",
          "text": [
            "[nltk_data] Downloading package wordnet to /root/nltk_data...\n"
          ]
        },
        {
          "output_type": "execute_result",
          "data": {
            "text/plain": [
              "True"
            ]
          },
          "metadata": {},
          "execution_count": 29
        }
      ]
    },
    {
      "cell_type": "code",
      "source": [
        "l = WordNetLemmatizer()"
      ],
      "metadata": {
        "id": "73ixbWDudpXQ"
      },
      "execution_count": 30,
      "outputs": []
    },
    {
      "cell_type": "code",
      "source": [
        "lm = [l.lemmatize(token) for token in filterd_tokens]"
      ],
      "metadata": {
        "id": "Wp4NHyTHeP16"
      },
      "execution_count": 31,
      "outputs": []
    },
    {
      "cell_type": "code",
      "source": [
        "print(lm)"
      ],
      "metadata": {
        "colab": {
          "base_uri": "https://localhost:8080/"
        },
        "id": "EMv1IQMQeVf9",
        "outputId": "a010045b-d472-41ee-a220-71ac35c53902"
      },
      "execution_count": 32,
      "outputs": [
        {
          "output_type": "stream",
          "name": "stdout",
          "text": [
            "['Tokenization', 'process', 'splitting', 'text', 'document', 'individual', 'word', 'token', '.', 'important', 'step', 'natural', 'language', 'processing', '.', 'POS', 'tagging', 'assigns', 'grammatical', 'information', 'word', 'sentence', '.', 'Stop', 'word', 'commonly', 'used', 'word', 'often', 'removed', 'text', 'data', \"n't\", 'carry', 'significant', 'meaning', '.', 'Stemming', 'lemmatization', 'technique', 'used', 'reduce', 'word', 'base', 'root', 'form', '.']\n"
          ]
        }
      ]
    },
    {
      "cell_type": "code",
      "source": [
        "from sklearn.feature_extraction.text import TfidfVectorizer"
      ],
      "metadata": {
        "id": "rl3gzvwKefwY"
      },
      "execution_count": 36,
      "outputs": []
    },
    {
      "cell_type": "code",
      "source": [
        "f = \"Data Science is in very boom\"\n",
        "l = \"They call it ML but then do Data Science\"\n",
        "\n",
        "v = TfidfVectorizer()"
      ],
      "metadata": {
        "id": "yfFbLCaxfiQ0"
      },
      "execution_count": 38,
      "outputs": []
    },
    {
      "cell_type": "code",
      "source": [
        "mat = v.fit_transform([f,l])"
      ],
      "metadata": {
        "id": "Ks-vQQVngMTR"
      },
      "execution_count": 39,
      "outputs": []
    },
    {
      "cell_type": "code",
      "source": [
        "print(mat)"
      ],
      "metadata": {
        "colab": {
          "base_uri": "https://localhost:8080/"
        },
        "id": "8F2nmf1dgV5A",
        "outputId": "a4186157-8f47-4d10-8183-ee4a53cd9896"
      },
      "execution_count": 41,
      "outputs": [
        {
          "output_type": "stream",
          "name": "stdout",
          "text": [
            "  (0, 0)\t0.4466561618018052\n",
            "  (0, 12)\t0.4466561618018052\n",
            "  (0, 5)\t0.4466561618018052\n",
            "  (0, 6)\t0.4466561618018052\n",
            "  (0, 9)\t0.31779953783628945\n",
            "  (0, 3)\t0.31779953783628945\n",
            "  (1, 4)\t0.35327776613855977\n",
            "  (1, 10)\t0.35327776613855977\n",
            "  (1, 1)\t0.35327776613855977\n",
            "  (1, 8)\t0.35327776613855977\n",
            "  (1, 7)\t0.35327776613855977\n",
            "  (1, 2)\t0.35327776613855977\n",
            "  (1, 11)\t0.35327776613855977\n",
            "  (1, 9)\t0.2513600402461016\n",
            "  (1, 3)\t0.2513600402461016\n"
          ]
        }
      ]
    },
    {
      "cell_type": "code",
      "source": [],
      "metadata": {
        "id": "-K9qzJ8BgXep"
      },
      "execution_count": null,
      "outputs": []
    }
  ]
}