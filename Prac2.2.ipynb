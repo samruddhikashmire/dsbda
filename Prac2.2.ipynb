{
 "cells": [
  {
   "cell_type": "code",
   "execution_count": 36,
   "id": "1eca64c7-9a06-4f3a-bd5a-3297933e9629",
   "metadata": {},
   "outputs": [],
   "source": [
    "import pandas as pd"
   ]
  },
  {
   "cell_type": "code",
   "execution_count": 37,
   "id": "38f24d77-c98a-4581-87fe-26dc8d70d0c3",
   "metadata": {},
   "outputs": [],
   "source": [
    "df = pd.read_csv(\"AcademicPerformance.csv\")"
   ]
  },
  {
   "cell_type": "code",
   "execution_count": 38,
   "id": "3c9a49ea-cd8d-470a-b3ed-5d084dfc8d61",
   "metadata": {},
   "outputs": [
    {
     "data": {
      "text/html": [
       "<div>\n",
       "<style scoped>\n",
       "    .dataframe tbody tr th:only-of-type {\n",
       "        vertical-align: middle;\n",
       "    }\n",
       "\n",
       "    .dataframe tbody tr th {\n",
       "        vertical-align: top;\n",
       "    }\n",
       "\n",
       "    .dataframe thead th {\n",
       "        text-align: right;\n",
       "    }\n",
       "</style>\n",
       "<table border=\"1\" class=\"dataframe\">\n",
       "  <thead>\n",
       "    <tr style=\"text-align: right;\">\n",
       "      <th></th>\n",
       "      <th>gender</th>\n",
       "      <th>race/ethnicity</th>\n",
       "      <th>parental level of education</th>\n",
       "      <th>lunch</th>\n",
       "      <th>test preparation course</th>\n",
       "      <th>Year_Birth</th>\n",
       "      <th>math score</th>\n",
       "      <th>reading score</th>\n",
       "      <th>writing score</th>\n",
       "      <th>Dt_Admission</th>\n",
       "      <th>College_Fees</th>\n",
       "    </tr>\n",
       "  </thead>\n",
       "  <tbody>\n",
       "    <tr>\n",
       "      <th>0</th>\n",
       "      <td>female</td>\n",
       "      <td>group B</td>\n",
       "      <td>bachelor's degree</td>\n",
       "      <td>standard</td>\n",
       "      <td>none</td>\n",
       "      <td>1970.0</td>\n",
       "      <td>72.0</td>\n",
       "      <td>72</td>\n",
       "      <td>74</td>\n",
       "      <td>6/16/14</td>\n",
       "      <td>$84,835.00</td>\n",
       "    </tr>\n",
       "    <tr>\n",
       "      <th>1</th>\n",
       "      <td>female</td>\n",
       "      <td>group C</td>\n",
       "      <td>some college</td>\n",
       "      <td>standard</td>\n",
       "      <td>completed</td>\n",
       "      <td>1961.0</td>\n",
       "      <td>NaN</td>\n",
       "      <td>na</td>\n",
       "      <td>A</td>\n",
       "      <td>6/15/14</td>\n",
       "      <td>$57,091.00</td>\n",
       "    </tr>\n",
       "    <tr>\n",
       "      <th>2</th>\n",
       "      <td>female</td>\n",
       "      <td>group B</td>\n",
       "      <td>master's degree</td>\n",
       "      <td>standard</td>\n",
       "      <td>none</td>\n",
       "      <td>1958.0</td>\n",
       "      <td>90.0</td>\n",
       "      <td>95</td>\n",
       "      <td>93</td>\n",
       "      <td>5/13/14</td>\n",
       "      <td>$67,267.00</td>\n",
       "    </tr>\n",
       "    <tr>\n",
       "      <th>3</th>\n",
       "      <td>male</td>\n",
       "      <td>group A</td>\n",
       "      <td>associate's degree</td>\n",
       "      <td>free/reduced</td>\n",
       "      <td>none</td>\n",
       "      <td>1967.0</td>\n",
       "      <td>NaN</td>\n",
       "      <td>NaN</td>\n",
       "      <td>44</td>\n",
       "      <td>05-11-2014</td>\n",
       "      <td>$32,474.00</td>\n",
       "    </tr>\n",
       "    <tr>\n",
       "      <th>4</th>\n",
       "      <td>male</td>\n",
       "      <td>group C</td>\n",
       "      <td>some college</td>\n",
       "      <td>standard</td>\n",
       "      <td>none</td>\n",
       "      <td>1989.0</td>\n",
       "      <td>76.0</td>\n",
       "      <td>78</td>\n",
       "      <td>75</td>\n",
       "      <td>04-08-2014</td>\n",
       "      <td>$21,474.00</td>\n",
       "    </tr>\n",
       "  </tbody>\n",
       "</table>\n",
       "</div>"
      ],
      "text/plain": [
       "   gender race/ethnicity parental level of education         lunch  \\\n",
       "0  female        group B           bachelor's degree      standard   \n",
       "1  female        group C                some college      standard   \n",
       "2  female        group B             master's degree      standard   \n",
       "3    male        group A          associate's degree  free/reduced   \n",
       "4    male        group C                some college      standard   \n",
       "\n",
       "  test preparation course  Year_Birth  math score reading score writing score  \\\n",
       "0                    none      1970.0        72.0            72            74   \n",
       "1               completed      1961.0         NaN            na             A   \n",
       "2                    none      1958.0        90.0            95            93   \n",
       "3                    none      1967.0         NaN           NaN            44   \n",
       "4                    none      1989.0        76.0            78            75   \n",
       "\n",
       "  Dt_Admission College_Fees  \n",
       "0      6/16/14  $84,835.00   \n",
       "1      6/15/14  $57,091.00   \n",
       "2      5/13/14  $67,267.00   \n",
       "3   05-11-2014  $32,474.00   \n",
       "4   04-08-2014  $21,474.00   "
      ]
     },
     "execution_count": 38,
     "metadata": {},
     "output_type": "execute_result"
    }
   ],
   "source": [
    "df.head()"
   ]
  },
  {
   "cell_type": "code",
   "execution_count": 49,
   "id": "74db2b33-6713-4624-92fb-427ecf31cc5a",
   "metadata": {},
   "outputs": [
    {
     "data": {
      "text/plain": [
       "gender                         0\n",
       "race/ethnicity                 0\n",
       "parental level of education    0\n",
       "lunch                          0\n",
       "test preparation course        0\n",
       "Year_Birth                     0\n",
       "math score                     0\n",
       "reading score                  0\n",
       "writing score                  0\n",
       "Dt_Admission                   0\n",
       "College_Fees                   0\n",
       "dtype: int64"
      ]
     },
     "execution_count": 49,
     "metadata": {},
     "output_type": "execute_result"
    }
   ],
   "source": [
    "df.isnull().sum()"
   ]
  },
  {
   "cell_type": "code",
   "execution_count": 40,
   "id": "5968bf77-973c-4f8c-b0b1-a2ae7077f1bc",
   "metadata": {},
   "outputs": [],
   "source": [
    "df['gender'].fillna(df['gender'].mode()[0] , inplace=True)"
   ]
  },
  {
   "cell_type": "code",
   "execution_count": 41,
   "id": "fcda0d26-c30c-4c64-9345-3e8c8159e90f",
   "metadata": {},
   "outputs": [],
   "source": [
    "df['race/ethnicity'].fillna(df['race/ethnicity'].mode()[0] , inplace = True)"
   ]
  },
  {
   "cell_type": "code",
   "execution_count": 42,
   "id": "415fd2e9-947a-4e78-8685-e840b87b0066",
   "metadata": {},
   "outputs": [],
   "source": [
    "df['parental level of education'].fillna(df['parental level of education'].mode()[0] , inplace=True)"
   ]
  },
  {
   "cell_type": "code",
   "execution_count": 43,
   "id": "35041b03-fbff-45e5-9b88-72d271dbb692",
   "metadata": {},
   "outputs": [],
   "source": [
    "df['lunch'].fillna(df['lunch'].mode()[0] , inplace = True)"
   ]
  },
  {
   "cell_type": "code",
   "execution_count": 44,
   "id": "d116beee-9545-4496-af8b-7e833e2304d8",
   "metadata": {},
   "outputs": [],
   "source": [
    "df['Dt_Admission'].fillna(df['Dt_Admission'].mode()[0] , inplace = True)"
   ]
  },
  {
   "cell_type": "code",
   "execution_count": 45,
   "id": "53ce113e-8702-4ac6-8ce3-40aa0e7664de",
   "metadata": {},
   "outputs": [],
   "source": [
    "df['College_Fees'].fillna(df['College_Fees'].mode()[0] , inplace = True)"
   ]
  },
  {
   "cell_type": "code",
   "execution_count": 46,
   "id": "f1aaca45-653d-4116-82b0-e279e6b721f2",
   "metadata": {},
   "outputs": [],
   "source": [
    "df['Year_Birth'].fillna(df['Year_Birth'].mode()[0] , inplace = True)"
   ]
  },
  {
   "cell_type": "code",
   "execution_count": 48,
   "id": "a327b2d1-fffd-4fc6-b9c7-f7bec19e1c51",
   "metadata": {},
   "outputs": [],
   "source": [
    "df[['math score', 'reading score', 'writing score']] = df[['math score', 'reading score', 'writing score']].apply(pd.to_numeric, errors='coerce')\n",
    "\n",
    "# Drop rows with NaN values in the specified columns\n",
    "df.dropna(subset=['math score', 'reading score', 'writing score'], inplace=True)"
   ]
  },
  {
   "cell_type": "code",
   "execution_count": null,
   "id": "a904ef56-cf53-482a-ab9f-d15e646f07ae",
   "metadata": {},
   "outputs": [],
   "source": []
  },
  {
   "cell_type": "markdown",
   "id": "98f003ae-1126-420a-8ec0-bcac0a02f0b8",
   "metadata": {},
   "source": [
    "## Outliers"
   ]
  },
  {
   "cell_type": "markdown",
   "id": "e4d3aa5e-74ed-4726-8fa1-8f7c22a61ccb",
   "metadata": {},
   "source": [
    "### Math Score"
   ]
  },
  {
   "cell_type": "code",
   "execution_count": 51,
   "id": "a3c54ea5-2a7f-40a9-9bb2-e87deea11504",
   "metadata": {},
   "outputs": [],
   "source": [
    "m_q1 = df['math score'].quantile(0.25)\n",
    "m_q3 = df['math score'].quantile(0.75)"
   ]
  },
  {
   "cell_type": "code",
   "execution_count": 52,
   "id": "ecaca751-aec1-47c3-a1ff-9c20e288d657",
   "metadata": {},
   "outputs": [],
   "source": [
    "m_iqr = m_q3 - m_q1"
   ]
  },
  {
   "cell_type": "code",
   "execution_count": 53,
   "id": "779cd3d3-0920-4790-b47f-4566dedb3260",
   "metadata": {},
   "outputs": [],
   "source": [
    "lb = m_q1 - (1.5 * m_iqr)"
   ]
  },
  {
   "cell_type": "code",
   "execution_count": 55,
   "id": "f22be263-3dd9-4805-b7a9-acaecb08f680",
   "metadata": {},
   "outputs": [],
   "source": [
    "ub = m_q3 + (1.5 * m_iqr)"
   ]
  },
  {
   "cell_type": "code",
   "execution_count": 56,
   "id": "7acd3216-b415-4c63-88cf-997ef07d2efb",
   "metadata": {},
   "outputs": [],
   "source": [
    "outliers_math = df[ (df['math score'] < lb) | (df['math score'] > ub) ]"
   ]
  },
  {
   "cell_type": "code",
   "execution_count": 57,
   "id": "102b0156-23c0-4caf-a8ca-1d6b6c52a598",
   "metadata": {},
   "outputs": [
    {
     "data": {
      "text/html": [
       "<div>\n",
       "<style scoped>\n",
       "    .dataframe tbody tr th:only-of-type {\n",
       "        vertical-align: middle;\n",
       "    }\n",
       "\n",
       "    .dataframe tbody tr th {\n",
       "        vertical-align: top;\n",
       "    }\n",
       "\n",
       "    .dataframe thead th {\n",
       "        text-align: right;\n",
       "    }\n",
       "</style>\n",
       "<table border=\"1\" class=\"dataframe\">\n",
       "  <thead>\n",
       "    <tr style=\"text-align: right;\">\n",
       "      <th></th>\n",
       "      <th>gender</th>\n",
       "      <th>race/ethnicity</th>\n",
       "      <th>parental level of education</th>\n",
       "      <th>lunch</th>\n",
       "      <th>test preparation course</th>\n",
       "      <th>Year_Birth</th>\n",
       "      <th>math score</th>\n",
       "      <th>reading score</th>\n",
       "      <th>writing score</th>\n",
       "      <th>Dt_Admission</th>\n",
       "      <th>College_Fees</th>\n",
       "    </tr>\n",
       "  </thead>\n",
       "  <tbody>\n",
       "    <tr>\n",
       "      <th>17</th>\n",
       "      <td>female</td>\n",
       "      <td>group B</td>\n",
       "      <td>some high school</td>\n",
       "      <td>free/reduced</td>\n",
       "      <td>none</td>\n",
       "      <td>1958.0</td>\n",
       "      <td>18.0</td>\n",
       "      <td>32.0</td>\n",
       "      <td>28.0</td>\n",
       "      <td>08-01-2013</td>\n",
       "      <td>$32,173.00</td>\n",
       "    </tr>\n",
       "    <tr>\n",
       "      <th>59</th>\n",
       "      <td>female</td>\n",
       "      <td>group C</td>\n",
       "      <td>some high school</td>\n",
       "      <td>free/reduced</td>\n",
       "      <td>none</td>\n",
       "      <td>1964.0</td>\n",
       "      <td>0.0</td>\n",
       "      <td>17.0</td>\n",
       "      <td>10.0</td>\n",
       "      <td>01-01-2014</td>\n",
       "      <td>$60,597.00</td>\n",
       "    </tr>\n",
       "    <tr>\n",
       "      <th>145</th>\n",
       "      <td>female</td>\n",
       "      <td>group C</td>\n",
       "      <td>some college</td>\n",
       "      <td>free/reduced</td>\n",
       "      <td>none</td>\n",
       "      <td>1984.0</td>\n",
       "      <td>22.0</td>\n",
       "      <td>39.0</td>\n",
       "      <td>33.0</td>\n",
       "      <td>11-10-2012</td>\n",
       "      <td>$18,890.00</td>\n",
       "    </tr>\n",
       "    <tr>\n",
       "      <th>338</th>\n",
       "      <td>female</td>\n",
       "      <td>group B</td>\n",
       "      <td>some high school</td>\n",
       "      <td>free/reduced</td>\n",
       "      <td>none</td>\n",
       "      <td>1954.0</td>\n",
       "      <td>24.0</td>\n",
       "      <td>38.0</td>\n",
       "      <td>27.0</td>\n",
       "      <td>4/15/14</td>\n",
       "      <td>$75,315.00</td>\n",
       "    </tr>\n",
       "    <tr>\n",
       "      <th>466</th>\n",
       "      <td>female</td>\n",
       "      <td>group D</td>\n",
       "      <td>associate's degree</td>\n",
       "      <td>free/reduced</td>\n",
       "      <td>none</td>\n",
       "      <td>1954.0</td>\n",
       "      <td>26.0</td>\n",
       "      <td>31.0</td>\n",
       "      <td>38.0</td>\n",
       "      <td>02-12-2013</td>\n",
       "      <td>$39,898.00</td>\n",
       "    </tr>\n",
       "    <tr>\n",
       "      <th>787</th>\n",
       "      <td>female</td>\n",
       "      <td>group B</td>\n",
       "      <td>some college</td>\n",
       "      <td>standard</td>\n",
       "      <td>none</td>\n",
       "      <td>1972.0</td>\n",
       "      <td>19.0</td>\n",
       "      <td>38.0</td>\n",
       "      <td>32.0</td>\n",
       "      <td>11-03-2013</td>\n",
       "      <td>$46,086.00</td>\n",
       "    </tr>\n",
       "    <tr>\n",
       "      <th>842</th>\n",
       "      <td>female</td>\n",
       "      <td>group B</td>\n",
       "      <td>high school</td>\n",
       "      <td>free/reduced</td>\n",
       "      <td>completed</td>\n",
       "      <td>1972.0</td>\n",
       "      <td>23.0</td>\n",
       "      <td>44.0</td>\n",
       "      <td>36.0</td>\n",
       "      <td>05-03-2014</td>\n",
       "      <td>$76,842.00</td>\n",
       "    </tr>\n",
       "    <tr>\n",
       "      <th>980</th>\n",
       "      <td>female</td>\n",
       "      <td>group B</td>\n",
       "      <td>high school</td>\n",
       "      <td>free/reduced</td>\n",
       "      <td>none</td>\n",
       "      <td>1972.0</td>\n",
       "      <td>8.0</td>\n",
       "      <td>24.0</td>\n",
       "      <td>23.0</td>\n",
       "      <td>04-06-2013</td>\n",
       "      <td>$72,504.00</td>\n",
       "    </tr>\n",
       "  </tbody>\n",
       "</table>\n",
       "</div>"
      ],
      "text/plain": [
       "     gender race/ethnicity parental level of education         lunch  \\\n",
       "17   female        group B            some high school  free/reduced   \n",
       "59   female        group C            some high school  free/reduced   \n",
       "145  female        group C                some college  free/reduced   \n",
       "338  female        group B            some high school  free/reduced   \n",
       "466  female        group D          associate's degree  free/reduced   \n",
       "787  female        group B                some college      standard   \n",
       "842  female        group B                 high school  free/reduced   \n",
       "980  female        group B                 high school  free/reduced   \n",
       "\n",
       "    test preparation course  Year_Birth  math score  reading score  \\\n",
       "17                     none      1958.0        18.0           32.0   \n",
       "59                     none      1964.0         0.0           17.0   \n",
       "145                    none      1984.0        22.0           39.0   \n",
       "338                    none      1954.0        24.0           38.0   \n",
       "466                    none      1954.0        26.0           31.0   \n",
       "787                    none      1972.0        19.0           38.0   \n",
       "842               completed      1972.0        23.0           44.0   \n",
       "980                    none      1972.0         8.0           24.0   \n",
       "\n",
       "     writing score Dt_Admission College_Fees  \n",
       "17            28.0   08-01-2013  $32,173.00   \n",
       "59            10.0   01-01-2014  $60,597.00   \n",
       "145           33.0   11-10-2012  $18,890.00   \n",
       "338           27.0      4/15/14  $75,315.00   \n",
       "466           38.0   02-12-2013  $39,898.00   \n",
       "787           32.0   11-03-2013  $46,086.00   \n",
       "842           36.0   05-03-2014  $76,842.00   \n",
       "980           23.0   04-06-2013  $72,504.00   "
      ]
     },
     "execution_count": 57,
     "metadata": {},
     "output_type": "execute_result"
    }
   ],
   "source": [
    "outliers_math"
   ]
  },
  {
   "cell_type": "markdown",
   "id": "f6651575-f584-48e0-b1e2-67d2f3693437",
   "metadata": {},
   "source": [
    "### Reading Score"
   ]
  },
  {
   "cell_type": "code",
   "execution_count": 59,
   "id": "9218a878-a767-46a2-b4fe-0f5046f65c0d",
   "metadata": {},
   "outputs": [],
   "source": [
    "r_q1 = df['reading score'].quantile(0.25)\n",
    "r_q3 = df['reading score'].quantile(0.75)"
   ]
  },
  {
   "cell_type": "code",
   "execution_count": 60,
   "id": "3d66e848-c7b4-4e80-ba51-f27e6a524ea4",
   "metadata": {},
   "outputs": [],
   "source": [
    "r_iqr = r_q3 - r_q1"
   ]
  },
  {
   "cell_type": "code",
   "execution_count": 61,
   "id": "4d1b4612-06a7-4344-a1ee-ec110439ef27",
   "metadata": {},
   "outputs": [],
   "source": [
    "lb = r_q1 - (1.5 * r_iqr)\n",
    "ub = r_q3 + (1.5 * r_iqr)"
   ]
  },
  {
   "cell_type": "code",
   "execution_count": 64,
   "id": "59400e6f-de82-4778-bae8-837f9ba6a5ea",
   "metadata": {},
   "outputs": [
    {
     "data": {
      "text/plain": [
       "(29.0, 109.0)"
      ]
     },
     "execution_count": 64,
     "metadata": {},
     "output_type": "execute_result"
    }
   ],
   "source": [
    "lb , ub"
   ]
  },
  {
   "cell_type": "code",
   "execution_count": 62,
   "id": "a36ad7d2-f512-4966-8836-422829b67ac1",
   "metadata": {},
   "outputs": [],
   "source": [
    "outliers_reading = df[ (df['reading score'] < lb) | (df['reading score'] > ub)]"
   ]
  },
  {
   "cell_type": "code",
   "execution_count": 63,
   "id": "3306aed6-bd4a-4384-86df-31a1be8a9c4a",
   "metadata": {},
   "outputs": [
    {
     "data": {
      "text/html": [
       "<div>\n",
       "<style scoped>\n",
       "    .dataframe tbody tr th:only-of-type {\n",
       "        vertical-align: middle;\n",
       "    }\n",
       "\n",
       "    .dataframe tbody tr th {\n",
       "        vertical-align: top;\n",
       "    }\n",
       "\n",
       "    .dataframe thead th {\n",
       "        text-align: right;\n",
       "    }\n",
       "</style>\n",
       "<table border=\"1\" class=\"dataframe\">\n",
       "  <thead>\n",
       "    <tr style=\"text-align: right;\">\n",
       "      <th></th>\n",
       "      <th>gender</th>\n",
       "      <th>race/ethnicity</th>\n",
       "      <th>parental level of education</th>\n",
       "      <th>lunch</th>\n",
       "      <th>test preparation course</th>\n",
       "      <th>Year_Birth</th>\n",
       "      <th>math score</th>\n",
       "      <th>reading score</th>\n",
       "      <th>writing score</th>\n",
       "      <th>Dt_Admission</th>\n",
       "      <th>College_Fees</th>\n",
       "    </tr>\n",
       "  </thead>\n",
       "  <tbody>\n",
       "    <tr>\n",
       "      <th>59</th>\n",
       "      <td>female</td>\n",
       "      <td>group C</td>\n",
       "      <td>some high school</td>\n",
       "      <td>free/reduced</td>\n",
       "      <td>none</td>\n",
       "      <td>1964.0</td>\n",
       "      <td>0.0</td>\n",
       "      <td>17.0</td>\n",
       "      <td>10.0</td>\n",
       "      <td>01-01-2014</td>\n",
       "      <td>$60,597.00</td>\n",
       "    </tr>\n",
       "    <tr>\n",
       "      <th>76</th>\n",
       "      <td>male</td>\n",
       "      <td>group E</td>\n",
       "      <td>some high school</td>\n",
       "      <td>standard</td>\n",
       "      <td>none</td>\n",
       "      <td>1963.0</td>\n",
       "      <td>30.0</td>\n",
       "      <td>26.0</td>\n",
       "      <td>22.0</td>\n",
       "      <td>09-07-2012</td>\n",
       "      <td>$34,213.00</td>\n",
       "    </tr>\n",
       "    <tr>\n",
       "      <th>211</th>\n",
       "      <td>male</td>\n",
       "      <td>group C</td>\n",
       "      <td>some college</td>\n",
       "      <td>free/reduced</td>\n",
       "      <td>none</td>\n",
       "      <td>1987.0</td>\n",
       "      <td>35.0</td>\n",
       "      <td>28.0</td>\n",
       "      <td>27.0</td>\n",
       "      <td>5/18/14</td>\n",
       "      <td>$57,100.00</td>\n",
       "    </tr>\n",
       "    <tr>\n",
       "      <th>327</th>\n",
       "      <td>male</td>\n",
       "      <td>group A</td>\n",
       "      <td>some college</td>\n",
       "      <td>free/reduced</td>\n",
       "      <td>none</td>\n",
       "      <td>1988.0</td>\n",
       "      <td>28.0</td>\n",
       "      <td>23.0</td>\n",
       "      <td>19.0</td>\n",
       "      <td>3/19/13</td>\n",
       "      <td>$41,883.00</td>\n",
       "    </tr>\n",
       "    <tr>\n",
       "      <th>596</th>\n",
       "      <td>male</td>\n",
       "      <td>group B</td>\n",
       "      <td>high school</td>\n",
       "      <td>free/reduced</td>\n",
       "      <td>none</td>\n",
       "      <td>1972.0</td>\n",
       "      <td>30.0</td>\n",
       "      <td>24.0</td>\n",
       "      <td>15.0</td>\n",
       "      <td>12/30/13</td>\n",
       "      <td>$56,243.00</td>\n",
       "    </tr>\n",
       "    <tr>\n",
       "      <th>980</th>\n",
       "      <td>female</td>\n",
       "      <td>group B</td>\n",
       "      <td>high school</td>\n",
       "      <td>free/reduced</td>\n",
       "      <td>none</td>\n",
       "      <td>1972.0</td>\n",
       "      <td>8.0</td>\n",
       "      <td>24.0</td>\n",
       "      <td>23.0</td>\n",
       "      <td>04-06-2013</td>\n",
       "      <td>$72,504.00</td>\n",
       "    </tr>\n",
       "  </tbody>\n",
       "</table>\n",
       "</div>"
      ],
      "text/plain": [
       "     gender race/ethnicity parental level of education         lunch  \\\n",
       "59   female        group C            some high school  free/reduced   \n",
       "76     male        group E            some high school      standard   \n",
       "211    male        group C                some college  free/reduced   \n",
       "327    male        group A                some college  free/reduced   \n",
       "596    male        group B                 high school  free/reduced   \n",
       "980  female        group B                 high school  free/reduced   \n",
       "\n",
       "    test preparation course  Year_Birth  math score  reading score  \\\n",
       "59                     none      1964.0         0.0           17.0   \n",
       "76                     none      1963.0        30.0           26.0   \n",
       "211                    none      1987.0        35.0           28.0   \n",
       "327                    none      1988.0        28.0           23.0   \n",
       "596                    none      1972.0        30.0           24.0   \n",
       "980                    none      1972.0         8.0           24.0   \n",
       "\n",
       "     writing score Dt_Admission College_Fees  \n",
       "59            10.0   01-01-2014  $60,597.00   \n",
       "76            22.0   09-07-2012  $34,213.00   \n",
       "211           27.0      5/18/14  $57,100.00   \n",
       "327           19.0      3/19/13  $41,883.00   \n",
       "596           15.0     12/30/13  $56,243.00   \n",
       "980           23.0   04-06-2013  $72,504.00   "
      ]
     },
     "execution_count": 63,
     "metadata": {},
     "output_type": "execute_result"
    }
   ],
   "source": [
    "outliers_reading"
   ]
  },
  {
   "cell_type": "code",
   "execution_count": null,
   "id": "54edb309-b38d-4069-8b3f-eeeb9967fc67",
   "metadata": {},
   "outputs": [],
   "source": []
  }
 ],
 "metadata": {
  "kernelspec": {
   "display_name": "Python 3 (ipykernel)",
   "language": "python",
   "name": "python3"
  },
  "language_info": {
   "codemirror_mode": {
    "name": "ipython",
    "version": 3
   },
   "file_extension": ".py",
   "mimetype": "text/x-python",
   "name": "python",
   "nbconvert_exporter": "python",
   "pygments_lexer": "ipython3",
   "version": "3.11.7"
  }
 },
 "nbformat": 4,
 "nbformat_minor": 5
}
